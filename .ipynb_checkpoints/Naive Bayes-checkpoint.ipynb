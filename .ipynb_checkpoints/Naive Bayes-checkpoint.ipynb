{
 "cells": [
  {
   "cell_type": "code",
   "execution_count": 1,
   "metadata": {
    "colab": {
     "base_uri": "https://localhost:8080/",
     "height": 270
    },
    "executionInfo": {
     "elapsed": 230,
     "status": "ok",
     "timestamp": 1649101141902,
     "user": {
      "displayName": "Ronen Rokhit",
      "userId": "09196802491064055637"
     },
     "user_tz": 240
    },
    "id": "Vl0JgHpyvLwF",
    "outputId": "42c035e6-5f6b-4083-e667-6d580b1401ba"
   },
   "outputs": [
    {
     "data": {
      "text/html": [
       "<div>\n",
       "<style scoped>\n",
       "    .dataframe tbody tr th:only-of-type {\n",
       "        vertical-align: middle;\n",
       "    }\n",
       "\n",
       "    .dataframe tbody tr th {\n",
       "        vertical-align: top;\n",
       "    }\n",
       "\n",
       "    .dataframe thead th {\n",
       "        text-align: right;\n",
       "    }\n",
       "</style>\n",
       "<table border=\"1\" class=\"dataframe\">\n",
       "  <thead>\n",
       "    <tr style=\"text-align: right;\">\n",
       "      <th></th>\n",
       "      <th>job_ad_id</th>\n",
       "      <th>job_type</th>\n",
       "      <th>job_fed_contractor</th>\n",
       "      <th>job_ownership</th>\n",
       "      <th>job_req_communication</th>\n",
       "      <th>job_req_organization</th>\n",
       "      <th>received_callback</th>\n",
       "      <th>honors</th>\n",
       "      <th>worked_during_school</th>\n",
       "      <th>special_skills</th>\n",
       "      <th>volunteer</th>\n",
       "      <th>military</th>\n",
       "      <th>employment_holes</th>\n",
       "      <th>experience_delta</th>\n",
       "      <th>computer_match</th>\n",
       "      <th>school_match</th>\n",
       "    </tr>\n",
       "  </thead>\n",
       "  <tbody>\n",
       "    <tr>\n",
       "      <th>0</th>\n",
       "      <td>384</td>\n",
       "      <td>supervisor</td>\n",
       "      <td>0</td>\n",
       "      <td>unknown</td>\n",
       "      <td>0</td>\n",
       "      <td>0</td>\n",
       "      <td>0</td>\n",
       "      <td>0</td>\n",
       "      <td>0</td>\n",
       "      <td>0</td>\n",
       "      <td>0</td>\n",
       "      <td>0</td>\n",
       "      <td>1</td>\n",
       "      <td>1.0</td>\n",
       "      <td>RY</td>\n",
       "      <td>NC</td>\n",
       "    </tr>\n",
       "    <tr>\n",
       "      <th>1</th>\n",
       "      <td>384</td>\n",
       "      <td>supervisor</td>\n",
       "      <td>0</td>\n",
       "      <td>unknown</td>\n",
       "      <td>0</td>\n",
       "      <td>0</td>\n",
       "      <td>0</td>\n",
       "      <td>0</td>\n",
       "      <td>1</td>\n",
       "      <td>0</td>\n",
       "      <td>1</td>\n",
       "      <td>1</td>\n",
       "      <td>0</td>\n",
       "      <td>1.0</td>\n",
       "      <td>RY</td>\n",
       "      <td>NS</td>\n",
       "    </tr>\n",
       "    <tr>\n",
       "      <th>2</th>\n",
       "      <td>384</td>\n",
       "      <td>supervisor</td>\n",
       "      <td>0</td>\n",
       "      <td>unknown</td>\n",
       "      <td>0</td>\n",
       "      <td>0</td>\n",
       "      <td>0</td>\n",
       "      <td>0</td>\n",
       "      <td>1</td>\n",
       "      <td>0</td>\n",
       "      <td>0</td>\n",
       "      <td>0</td>\n",
       "      <td>0</td>\n",
       "      <td>1.0</td>\n",
       "      <td>RY</td>\n",
       "      <td>NC</td>\n",
       "    </tr>\n",
       "    <tr>\n",
       "      <th>3</th>\n",
       "      <td>384</td>\n",
       "      <td>supervisor</td>\n",
       "      <td>0</td>\n",
       "      <td>unknown</td>\n",
       "      <td>0</td>\n",
       "      <td>0</td>\n",
       "      <td>0</td>\n",
       "      <td>0</td>\n",
       "      <td>0</td>\n",
       "      <td>1</td>\n",
       "      <td>1</td>\n",
       "      <td>0</td>\n",
       "      <td>1</td>\n",
       "      <td>1.0</td>\n",
       "      <td>RY</td>\n",
       "      <td>NS</td>\n",
       "    </tr>\n",
       "    <tr>\n",
       "      <th>4</th>\n",
       "      <td>385</td>\n",
       "      <td>secretary</td>\n",
       "      <td>0</td>\n",
       "      <td>nonprofit</td>\n",
       "      <td>0</td>\n",
       "      <td>1</td>\n",
       "      <td>0</td>\n",
       "      <td>0</td>\n",
       "      <td>1</td>\n",
       "      <td>0</td>\n",
       "      <td>0</td>\n",
       "      <td>0</td>\n",
       "      <td>0</td>\n",
       "      <td>22.0</td>\n",
       "      <td>RY</td>\n",
       "      <td>NS</td>\n",
       "    </tr>\n",
       "  </tbody>\n",
       "</table>\n",
       "</div>"
      ],
      "text/plain": [
       "   job_ad_id    job_type  job_fed_contractor job_ownership  \\\n",
       "0        384  supervisor                   0       unknown   \n",
       "1        384  supervisor                   0       unknown   \n",
       "2        384  supervisor                   0       unknown   \n",
       "3        384  supervisor                   0       unknown   \n",
       "4        385   secretary                   0     nonprofit   \n",
       "\n",
       "   job_req_communication  job_req_organization  received_callback  honors  \\\n",
       "0                      0                     0                  0       0   \n",
       "1                      0                     0                  0       0   \n",
       "2                      0                     0                  0       0   \n",
       "3                      0                     0                  0       0   \n",
       "4                      0                     1                  0       0   \n",
       "\n",
       "   worked_during_school  special_skills  volunteer  military  \\\n",
       "0                     0               0          0         0   \n",
       "1                     1               0          1         1   \n",
       "2                     1               0          0         0   \n",
       "3                     0               1          1         0   \n",
       "4                     1               0          0         0   \n",
       "\n",
       "   employment_holes  experience_delta computer_match school_match  \n",
       "0                 1               1.0             RY           NC  \n",
       "1                 0               1.0             RY           NS  \n",
       "2                 0               1.0             RY           NC  \n",
       "3                 1               1.0             RY           NS  \n",
       "4                 0              22.0             RY           NS  "
      ]
     },
     "execution_count": 1,
     "metadata": {},
     "output_type": "execute_result"
    }
   ],
   "source": [
    "import pandas as pd\n",
    "df = pd.read_csv('data/resume data modified Extra Rows.csv')\n",
    "\n",
    "#verify data was loaded correctly \n",
    "df.head()"
   ]
  },
  {
   "cell_type": "code",
   "execution_count": 2,
   "metadata": {
    "colab": {
     "base_uri": "https://localhost:8080/"
    },
    "executionInfo": {
     "elapsed": 85,
     "status": "ok",
     "timestamp": 1649101142625,
     "user": {
      "displayName": "Ronen Rokhit",
      "userId": "09196802491064055637"
     },
     "user_tz": 240
    },
    "id": "JZlY-C-UBknl",
    "outputId": "a68ab612-790e-4c2c-c013-dfa3c06a6fc9"
   },
   "outputs": [
    {
     "name": "stdout",
     "output_type": "stream",
     "text": [
      "{'supervisor', 'sales_rep', 'secretary', 'manager', 'retail_sales', 'clerical'}\n",
      "{'nonprofit', 'unknown', 'private', 'public'}\n",
      "{'RY', 'NY', 'NN', 'RN'}\n",
      "{'HC', 'CN', 'NC', 'NN', 'HS', 'CS', 'CC', 'SS', 'SC', 'NS'}\n"
     ]
    }
   ],
   "source": [
    "#determine set of values for all non-numerical data to transform later\n",
    "\n",
    "print(set(df['job_type']))\n",
    "print(set(df['job_ownership']))\n",
    "print(set(df['computer_match']))\n",
    "print(set(df['school_match']))"
   ]
  },
  {
   "cell_type": "code",
   "execution_count": 3,
   "metadata": {
    "colab": {
     "base_uri": "https://localhost:8080/",
     "height": 270
    },
    "executionInfo": {
     "elapsed": 169,
     "status": "ok",
     "timestamp": 1649101143335,
     "user": {
      "displayName": "Ronen Rokhit",
      "userId": "09196802491064055637"
     },
     "user_tz": 240
    },
    "id": "xxB77IGjLjdC",
    "outputId": "7df6f8a1-2364-4f57-e445-34947a04ea9d"
   },
   "outputs": [
    {
     "data": {
      "text/html": [
       "<div>\n",
       "<style scoped>\n",
       "    .dataframe tbody tr th:only-of-type {\n",
       "        vertical-align: middle;\n",
       "    }\n",
       "\n",
       "    .dataframe tbody tr th {\n",
       "        vertical-align: top;\n",
       "    }\n",
       "\n",
       "    .dataframe thead th {\n",
       "        text-align: right;\n",
       "    }\n",
       "</style>\n",
       "<table border=\"1\" class=\"dataframe\">\n",
       "  <thead>\n",
       "    <tr style=\"text-align: right;\">\n",
       "      <th></th>\n",
       "      <th>job_ad_id</th>\n",
       "      <th>job_type</th>\n",
       "      <th>job_fed_contractor</th>\n",
       "      <th>job_ownership</th>\n",
       "      <th>job_req_communication</th>\n",
       "      <th>job_req_organization</th>\n",
       "      <th>received_callback</th>\n",
       "      <th>honors</th>\n",
       "      <th>worked_during_school</th>\n",
       "      <th>special_skills</th>\n",
       "      <th>volunteer</th>\n",
       "      <th>military</th>\n",
       "      <th>employment_holes</th>\n",
       "      <th>experience_delta</th>\n",
       "      <th>computer_match</th>\n",
       "      <th>school_match</th>\n",
       "    </tr>\n",
       "  </thead>\n",
       "  <tbody>\n",
       "    <tr>\n",
       "      <th>0</th>\n",
       "      <td>384</td>\n",
       "      <td>5</td>\n",
       "      <td>0</td>\n",
       "      <td>3</td>\n",
       "      <td>0</td>\n",
       "      <td>0</td>\n",
       "      <td>0</td>\n",
       "      <td>0</td>\n",
       "      <td>0</td>\n",
       "      <td>0</td>\n",
       "      <td>0</td>\n",
       "      <td>0</td>\n",
       "      <td>1</td>\n",
       "      <td>1.0</td>\n",
       "      <td>3</td>\n",
       "      <td>5</td>\n",
       "    </tr>\n",
       "    <tr>\n",
       "      <th>1</th>\n",
       "      <td>384</td>\n",
       "      <td>5</td>\n",
       "      <td>0</td>\n",
       "      <td>3</td>\n",
       "      <td>0</td>\n",
       "      <td>0</td>\n",
       "      <td>0</td>\n",
       "      <td>0</td>\n",
       "      <td>1</td>\n",
       "      <td>0</td>\n",
       "      <td>1</td>\n",
       "      <td>1</td>\n",
       "      <td>0</td>\n",
       "      <td>1.0</td>\n",
       "      <td>3</td>\n",
       "      <td>7</td>\n",
       "    </tr>\n",
       "    <tr>\n",
       "      <th>2</th>\n",
       "      <td>384</td>\n",
       "      <td>5</td>\n",
       "      <td>0</td>\n",
       "      <td>3</td>\n",
       "      <td>0</td>\n",
       "      <td>0</td>\n",
       "      <td>0</td>\n",
       "      <td>0</td>\n",
       "      <td>1</td>\n",
       "      <td>0</td>\n",
       "      <td>0</td>\n",
       "      <td>0</td>\n",
       "      <td>0</td>\n",
       "      <td>1.0</td>\n",
       "      <td>3</td>\n",
       "      <td>5</td>\n",
       "    </tr>\n",
       "    <tr>\n",
       "      <th>3</th>\n",
       "      <td>384</td>\n",
       "      <td>5</td>\n",
       "      <td>0</td>\n",
       "      <td>3</td>\n",
       "      <td>0</td>\n",
       "      <td>0</td>\n",
       "      <td>0</td>\n",
       "      <td>0</td>\n",
       "      <td>0</td>\n",
       "      <td>1</td>\n",
       "      <td>1</td>\n",
       "      <td>0</td>\n",
       "      <td>1</td>\n",
       "      <td>1.0</td>\n",
       "      <td>3</td>\n",
       "      <td>7</td>\n",
       "    </tr>\n",
       "    <tr>\n",
       "      <th>4</th>\n",
       "      <td>385</td>\n",
       "      <td>4</td>\n",
       "      <td>0</td>\n",
       "      <td>0</td>\n",
       "      <td>0</td>\n",
       "      <td>1</td>\n",
       "      <td>0</td>\n",
       "      <td>0</td>\n",
       "      <td>1</td>\n",
       "      <td>0</td>\n",
       "      <td>0</td>\n",
       "      <td>0</td>\n",
       "      <td>0</td>\n",
       "      <td>22.0</td>\n",
       "      <td>3</td>\n",
       "      <td>7</td>\n",
       "    </tr>\n",
       "  </tbody>\n",
       "</table>\n",
       "</div>"
      ],
      "text/plain": [
       "   job_ad_id  job_type  job_fed_contractor  job_ownership  \\\n",
       "0        384         5                   0              3   \n",
       "1        384         5                   0              3   \n",
       "2        384         5                   0              3   \n",
       "3        384         5                   0              3   \n",
       "4        385         4                   0              0   \n",
       "\n",
       "   job_req_communication  job_req_organization  received_callback  honors  \\\n",
       "0                      0                     0                  0       0   \n",
       "1                      0                     0                  0       0   \n",
       "2                      0                     0                  0       0   \n",
       "3                      0                     0                  0       0   \n",
       "4                      0                     1                  0       0   \n",
       "\n",
       "   worked_during_school  special_skills  volunteer  military  \\\n",
       "0                     0               0          0         0   \n",
       "1                     1               0          1         1   \n",
       "2                     1               0          0         0   \n",
       "3                     0               1          1         0   \n",
       "4                     1               0          0         0   \n",
       "\n",
       "   employment_holes  experience_delta  computer_match  school_match  \n",
       "0                 1               1.0               3             5  \n",
       "1                 0               1.0               3             7  \n",
       "2                 0               1.0               3             5  \n",
       "3                 1               1.0               3             7  \n",
       "4                 0              22.0               3             7  "
      ]
     },
     "execution_count": 3,
     "metadata": {},
     "output_type": "execute_result"
    }
   ],
   "source": [
    "#map non-numerical values to integers \n",
    "job_type_map = {'clerical':0, 'manager': 1, 'retail_sales': 2, 'sales_rep': 3, 'secretary':4, 'supervisor': 5}\n",
    "job_ownership_map = {'nonprofit':0, 'private':1, 'public':2, 'unknown':3}\n",
    "computer_match_map = {'NN':0, 'NY':1, 'RN':2, 'RY':3}\n",
    "school_match_map = {'CC':0, 'CN':1, 'CS':2, 'HC':3, 'HS':4, 'NC':5, 'NN':6, 'NS':7, 'SC':8, 'SS':9}\n",
    "\n",
    "#change non-numerical columns to mapped integer values\n",
    "df['job_type']=df['job_type'].map(job_type_map)\n",
    "df['job_ownership']=df['job_ownership'].map(job_ownership_map)\n",
    "df['computer_match']=df['computer_match'].map(computer_match_map)\n",
    "df['school_match']=df['school_match'].map(school_match_map)\n",
    "\n",
    "#drop unnecessary columns\n",
    "df.drop(['job_ad_id'], axis=1)\n",
    "\n",
    "#verify changes look as intended \n",
    "df.head()"
   ]
  },
  {
   "cell_type": "code",
   "execution_count": 4,
   "metadata": {
    "executionInfo": {
     "elapsed": 185,
     "status": "ok",
     "timestamp": 1649101144044,
     "user": {
      "displayName": "Ronen Rokhit",
      "userId": "09196802491064055637"
     },
     "user_tz": 240
    },
    "id": "LCrp4AnZqv8w"
   },
   "outputs": [],
   "source": [
    "#check for any negative values in dataset\n",
    "df.min()\n",
    "\n",
    "#normalize values in columns with negative values, to ensure MultinomialNB can work with them\n",
    "from sklearn.preprocessing import MinMaxScaler\n",
    "\n",
    "scaler = MinMaxScaler()\n",
    "df[['experience_delta']] = scaler.fit_transform(df[['experience_delta']])"
   ]
  },
  {
   "cell_type": "code",
   "execution_count": 53,
   "metadata": {
    "executionInfo": {
     "elapsed": 3,
     "status": "ok",
     "timestamp": 1649101144764,
     "user": {
      "displayName": "Ronen Rokhit",
      "userId": "09196802491064055637"
     },
     "user_tz": 240
    },
    "id": "XVak8TilzKea"
   },
   "outputs": [],
   "source": [
    "from sklearn.model_selection import train_test_split\n",
    "\n",
    "#partition data into training and testing\n",
    "X_train, X_test, y_train, y_test = train_test_split(df[df.columns.difference(['received_callback', 'job_ad_id'])], df['received_callback'], test_size=0.3)"
   ]
  },
  {
   "cell_type": "code",
   "execution_count": 54,
   "metadata": {
    "colab": {
     "base_uri": "https://localhost:8080/"
    },
    "executionInfo": {
     "elapsed": 80,
     "status": "ok",
     "timestamp": 1649101145511,
     "user": {
      "displayName": "Ronen Rokhit",
      "userId": "09196802491064055637"
     },
     "user_tz": 240
    },
    "id": "m7OMzLmFAC4r",
    "outputId": "765c59fc-1616-4685-90ec-f748bb74a748"
   },
   "outputs": [
    {
     "data": {
      "text/plain": [
       "MultinomialNB(alpha=1.0, class_prior=None, fit_prior=True)"
      ]
     },
     "execution_count": 54,
     "metadata": {},
     "output_type": "execute_result"
    }
   ],
   "source": [
    "from sklearn.naive_bayes import MultinomialNB\n",
    "\n",
    "#fit model on the built in Naive Bayes method from sklearn\n",
    "naive_bayes = MultinomialNB()\n",
    "model = naive_bayes.fit(X_train, y_train)\n",
    "model"
   ]
  },
  {
   "cell_type": "code",
   "execution_count": 55,
   "metadata": {
    "executionInfo": {
     "elapsed": 92,
     "status": "ok",
     "timestamp": 1649101146100,
     "user": {
      "displayName": "Ronen Rokhit",
      "userId": "09196802491064055637"
     },
     "user_tz": 240
    },
    "id": "7fgRUU3QBLoi"
   },
   "outputs": [],
   "source": [
    "#predict explanatory variable from testing data \n",
    "prediction = model.predict(X_test)"
   ]
  },
  {
   "cell_type": "code",
   "execution_count": 56,
   "metadata": {
    "colab": {
     "base_uri": "https://localhost:8080/"
    },
    "executionInfo": {
     "elapsed": 2,
     "status": "ok",
     "timestamp": 1649101146603,
     "user": {
      "displayName": "Ronen Rokhit",
      "userId": "09196802491064055637"
     },
     "user_tz": 240
    },
    "id": "tcvBKeBpaz3a",
    "outputId": "1f081904-9d1e-445d-eaee-28aaaac0cdbc"
   },
   "outputs": [
    {
     "name": "stdout",
     "output_type": "stream",
     "text": [
      "Accuracy Score 0.8137890394814379\n",
      "Precision Score 0.5\n",
      "Recall Score 0.006329113924050633\n",
      "F1 Score 0.012499999999999999\n"
     ]
    }
   ],
   "source": [
    "from sklearn.metrics import accuracy_score,precision_score,recall_score,f1_score\n",
    "\n",
    "#evaluate effectiveness of model based on sklearn metrics\n",
    "print('Accuracy Score',accuracy_score(y_test,prediction))\n",
    "print('Precision Score',precision_score(y_test,prediction))\n",
    "print('Recall Score',recall_score(y_test,prediction))\n",
    "print('F1 Score',f1_score(y_test,prediction))"
   ]
  }
 ],
 "metadata": {
  "colab": {
   "authorship_tag": "ABX9TyOA5clg1cxb3NGYJ3hUuXjL",
   "name": "Naive Bayes.ipynb",
   "provenance": []
  },
  "kernelspec": {
   "display_name": "Python 3",
   "language": "python",
   "name": "python3"
  },
  "language_info": {
   "codemirror_mode": {
    "name": "ipython",
    "version": 3
   },
   "file_extension": ".py",
   "mimetype": "text/x-python",
   "name": "python",
   "nbconvert_exporter": "python",
   "pygments_lexer": "ipython3",
   "version": "3.7.3"
  }
 },
 "nbformat": 4,
 "nbformat_minor": 1
}
