{
  "nbformat": 4,
  "nbformat_minor": 0,
  "metadata": {
    "colab": {
      "name": "Association.ipynb",
      "provenance": [],
      "collapsed_sections": []
    },
    "kernelspec": {
      "name": "python3",
      "display_name": "Python 3"
    },
    "language_info": {
      "name": "python"
    }
  },
  "cells": [
    {
      "cell_type": "markdown",
      "source": [
        "**Import Libraries**"
      ],
      "metadata": {
        "id": "BaXTJuRF1xLb"
      }
    },
    {
      "cell_type": "code",
      "execution_count": null,
      "metadata": {
        "id": "NrwHWadnFxTV"
      },
      "outputs": [],
      "source": [
        "# Import necessary python libraries.\n",
        "import pandas as pd\n",
        "import csv\n",
        "from mlxtend.preprocessing import TransactionEncoder\n",
        "from mlxtend.frequent_patterns import apriori, association_rules"
      ]
    },
    {
      "cell_type": "markdown",
      "source": [
        "**Helper Functions to Perform Association Rule Mining**"
      ],
      "metadata": {
        "id": "p3volss99Mam"
      }
    },
    {
      "cell_type": "code",
      "source": [
        "# Convert categorical binary variables \"1\" or \"0\" to more distinct categories for data cleansing.\n",
        "def distinct_categorical(curr, header):\n",
        "  return (\"yes_\" + header) if curr == \"1\" else (\"no_\" + header)"
      ],
      "metadata": {
        "id": "DLoXnPBIw0j5"
      },
      "execution_count": null,
      "outputs": []
    },
    {
      "cell_type": "code",
      "source": [
        "# Transform data for apriori algorithm.\n",
        "def prepare_data_for_apriori(dataset):\n",
        "  print(\"Prepare for Apriori:\")\n",
        "  oht = TransactionEncoder()\n",
        "  oht_array = oht.fit(dataset).transform(dataset)\n",
        "  df = pd.DataFrame(oht_array, columns=oht.columns_)\n",
        "  print(df)\n",
        "  print()\n",
        "  return df"
      ],
      "metadata": {
        "id": "8ftvncZ5-RPs"
      },
      "execution_count": null,
      "outputs": []
    },
    {
      "cell_type": "code",
      "source": [
        "# Groups together the frequent itemsets using the apriori algorithm.\n",
        "def frequent_itemsets(df, min_supp):\n",
        "  print(\"Group Frequent Itemsets:\")\n",
        "  frequent_itemsets = apriori(df, min_support=min_supp, use_colnames=True)\n",
        "  print(frequent_itemsets)\n",
        "  print()\n",
        "  return frequent_itemsets"
      ],
      "metadata": {
        "id": "nQKqemT-90M7"
      },
      "execution_count": null,
      "outputs": []
    },
    {
      "cell_type": "code",
      "source": [
        "# Determines the association rules between the provided itemsets.\n",
        "def determine_associations(frequent_itemsets, min_thresh):\n",
        "  print(\"Determine Associations:\")\n",
        "  rules = association_rules(frequent_itemsets, metric='confidence', min_threshold=min_thresh)\n",
        "  print(rules[['antecedents', 'consequents', 'support', 'confidence']])\n",
        "  print()"
      ],
      "metadata": {
        "id": "1gKsbW1Q9cWM"
      },
      "execution_count": null,
      "outputs": []
    },
    {
      "cell_type": "code",
      "source": [
        "# Print out rows to confirm dataset visually looks correct.\n",
        "def print_rows(dataset):\n",
        "  for row in dataset:\n",
        "    print(row)"
      ],
      "metadata": {
        "id": "tMY5s9Ps_8Hg"
      },
      "execution_count": null,
      "outputs": []
    },
    {
      "cell_type": "markdown",
      "source": [
        "**Association Between Resume Variables**"
      ],
      "metadata": {
        "id": "t7ouAtFVIXif"
      }
    },
    {
      "cell_type": "code",
      "source": [
        "# Goes through all data in 'file', cleansing the data to do association rule mining.\n",
        "def gather_resume_data(file):\n",
        "  # Stores all cleansed rows of data.\n",
        "  dataset = []\n",
        "\n",
        "  # Specify relevant columns that will be needed from original data.\n",
        "  received_callback = 6\n",
        "  resume_start = 7\n",
        "  resume_end = 13\n",
        "\n",
        "  # For the given file, gather and transform all relevant data to do associaton.\n",
        "  with open(file) as f:\n",
        "    reader = csv.reader(f)\n",
        "    \n",
        "    # Use column headers to convert binary to distinct categories.\n",
        "    headers = next(reader, None)\n",
        "    callback_header = [headers[received_callback]]\n",
        "    resume_headers =  headers[resume_start:resume_end]\n",
        "    combined_headers = callback_header + resume_headers\n",
        "\n",
        "    for row in reader:\n",
        "      # Only keep relevant columns for association.\n",
        "      callback_data = [row[received_callback]]\n",
        "      resume_data = row[resume_start:resume_end]\n",
        "      combined_data = callback_data + resume_data\n",
        "\n",
        "      # Cleanse each categorical resume variable to have a distinct name.\n",
        "      distinct_resume_data = list(map(distinct_categorical, combined_data, combined_headers))\n",
        "      dataset.append(distinct_resume_data)\n",
        "  \n",
        "  # Return cleaned dataset.\n",
        "  return dataset"
      ],
      "metadata": {
        "id": "aUZEGDysZyv-"
      },
      "execution_count": null,
      "outputs": []
    },
    {
      "cell_type": "code",
      "source": [
        "# Transformed and cleansed data from original dataset.\n",
        "resume_dataset = gather_resume_data('resume data modified OG.csv')\n",
        "\n",
        "# Run functions to determine assoications for provided data.\n",
        "df = prepare_data_for_apriori(resume_dataset)\n",
        "freq = frequent_itemsets(df, 0.8)\n",
        "determine_associations(freq, 0.8)"
      ],
      "metadata": {
        "id": "4u9p6RiebnNt"
      },
      "execution_count": null,
      "outputs": []
    },
    {
      "cell_type": "code",
      "source": [
        "# Transformed and cleansed data from modified dataset with extra rows.\n",
        "resume_dataset_extra_rows = gather_resume_data('resume data modified Extra Rows.csv')\n",
        "\n",
        "# Run functions to determine assoications for provided data.\n",
        "df = prepare_data_for_apriori(resume_dataset_extra_rows)\n",
        "freq = frequent_itemsets(df, 0.8)\n",
        "determine_associations(freq, 0.8)"
      ],
      "metadata": {
        "id": "Z19FkY0WcHBb"
      },
      "execution_count": null,
      "outputs": []
    },
    {
      "cell_type": "markdown",
      "source": [
        "**Association Between Job Variables**"
      ],
      "metadata": {
        "id": "XcQ_W-A1144f"
      }
    },
    {
      "cell_type": "code",
      "source": [
        "# Goes through all data in 'file', cleansing the data to do association rule mining.\n",
        "def gather_job_data(file):\n",
        "  # Stores all cleansed rows of data.\n",
        "  dataset = []\n",
        "\n",
        "  # Specify relevant columns that will be needed from original data.\n",
        "  job_start = 1\n",
        "  job_end = 6\n",
        "  received_callback = 6\n",
        "\n",
        "  # For the given file, gather and transform all relevant data to do associaton.\n",
        "  with open(file) as f:\n",
        "    reader = csv.reader(f)\n",
        "    \n",
        "    # Use column headers to convert binary to distinct categories.\n",
        "    headers = next(reader, None)\n",
        "    callback_header = [headers[received_callback]]\n",
        "    job_headers = headers[job_start:job_end]\n",
        "    combined_headers = callback_header + job_headers\n",
        "\n",
        "    for row in reader:\n",
        "      # Only keep relevant columns for association.\n",
        "      callback_data = [row[received_callback]]\n",
        "      job_data = row[job_start:job_end]\n",
        "      combined_data = callback_data + job_data\n",
        "\n",
        "      # Cleanse each categorical job variable to have a distinct name.\n",
        "      recieved_callback = distinct_categorical(combined_data[0], combined_headers[0])\n",
        "      job_type = combined_data[1]\n",
        "      job_fed_contractor = distinct_categorical(combined_data[2], combined_headers[2])\n",
        "      job_ownership = combined_data[3]\n",
        "      job_req_communication = distinct_categorical(combined_data[4], combined_headers[4])\n",
        "      job_req_organization = distinct_categorical(combined_data[5], combined_headers[5])\n",
        "\n",
        "      # Add cleansed row to overall dataset.\n",
        "      distinct_job_data = [recieved_callback, job_type, job_fed_contractor, job_ownership, job_req_communication, job_req_organization]\n",
        "      dataset.append(distinct_job_data)\n",
        "  \n",
        "  # Return cleaned dataset.\n",
        "  return dataset"
      ],
      "metadata": {
        "id": "dl-lUG3IdHTR"
      },
      "execution_count": null,
      "outputs": []
    },
    {
      "cell_type": "code",
      "source": [
        "# Transformed and cleansed data from original dataset.\n",
        "job_dataset = gather_job_data('resume data modified OG.csv')\n",
        "\n",
        "# Run functions to determine assoications for provided data.\n",
        "df = prepare_data_for_apriori(job_dataset)\n",
        "freq = frequent_itemsets(df, 0.8)\n",
        "determine_associations(freq, 0.8)"
      ],
      "metadata": {
        "id": "H_7Nk_SYeVGt"
      },
      "execution_count": null,
      "outputs": []
    },
    {
      "cell_type": "code",
      "source": [
        "# Transformed and cleansed data from modified dataset with extra rows.\n",
        "job_dataset_extra_rows = gather_job_data('resume data modified Extra Rows.csv')\n",
        "\n",
        "# Run functions to determine assoications for provided data.\n",
        "df = prepare_data_for_apriori(job_dataset_extra_rows)\n",
        "freq = frequent_itemsets(df, 0.8)\n",
        "determine_associations(freq, 0.8)"
      ],
      "metadata": {
        "id": "stF44ZHbeWz8"
      },
      "execution_count": null,
      "outputs": []
    }
  ]
}
